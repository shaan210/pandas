{
 "cells": [
  {
   "cell_type": "markdown",
   "id": "8aafb550",
   "metadata": {
    "papermill": {
     "duration": 0.006358,
     "end_time": "2024-09-14T09:07:00.708866",
     "exception": false,
     "start_time": "2024-09-14T09:07:00.702508",
     "status": "completed"
    },
    "tags": []
   },
   "source": [
    "**This notebook is an exercise in the [Pandas](https://www.kaggle.com/learn/pandas) course.  You can reference the tutorial at [this link](https://www.kaggle.com/residentmario/summary-functions-and-maps).**\n",
    "\n",
    "---\n"
   ]
  },
  {
   "cell_type": "markdown",
   "id": "642c2b64",
   "metadata": {
    "papermill": {
     "duration": 0.005233,
     "end_time": "2024-09-14T09:07:00.719909",
     "exception": false,
     "start_time": "2024-09-14T09:07:00.714676",
     "status": "completed"
    },
    "tags": []
   },
   "source": [
    "# Introduction\n",
    "\n",
    "Now you are ready to get a deeper understanding of your data.\n",
    "\n",
    "Run the following cell to load your data and some utility functions (including code to check your answers)."
   ]
  },
  {
   "cell_type": "code",
   "execution_count": 1,
   "id": "ef56cda3",
   "metadata": {
    "execution": {
     "iopub.execute_input": "2024-09-14T09:07:00.732673Z",
     "iopub.status.busy": "2024-09-14T09:07:00.732238Z",
     "iopub.status.idle": "2024-09-14T09:07:07.488003Z",
     "shell.execute_reply": "2024-09-14T09:07:07.486927Z"
    },
    "papermill": {
     "duration": 6.765261,
     "end_time": "2024-09-14T09:07:07.490686",
     "exception": false,
     "start_time": "2024-09-14T09:07:00.725425",
     "status": "completed"
    },
    "tags": []
   },
   "outputs": [
    {
     "name": "stdout",
     "output_type": "stream",
     "text": [
      "Setup complete.\n"
     ]
    },
    {
     "data": {
      "text/html": [
       "<div>\n",
       "<style scoped>\n",
       "    .dataframe tbody tr th:only-of-type {\n",
       "        vertical-align: middle;\n",
       "    }\n",
       "\n",
       "    .dataframe tbody tr th {\n",
       "        vertical-align: top;\n",
       "    }\n",
       "\n",
       "    .dataframe thead th {\n",
       "        text-align: right;\n",
       "    }\n",
       "</style>\n",
       "<table border=\"1\" class=\"dataframe\">\n",
       "  <thead>\n",
       "    <tr style=\"text-align: right;\">\n",
       "      <th></th>\n",
       "      <th>country</th>\n",
       "      <th>description</th>\n",
       "      <th>designation</th>\n",
       "      <th>points</th>\n",
       "      <th>price</th>\n",
       "      <th>province</th>\n",
       "      <th>region_1</th>\n",
       "      <th>region_2</th>\n",
       "      <th>taster_name</th>\n",
       "      <th>taster_twitter_handle</th>\n",
       "      <th>title</th>\n",
       "      <th>variety</th>\n",
       "      <th>winery</th>\n",
       "    </tr>\n",
       "  </thead>\n",
       "  <tbody>\n",
       "    <tr>\n",
       "      <th>0</th>\n",
       "      <td>Italy</td>\n",
       "      <td>Aromas include tropical fruit, broom, brimston...</td>\n",
       "      <td>Vulkà Bianco</td>\n",
       "      <td>87</td>\n",
       "      <td>NaN</td>\n",
       "      <td>Sicily &amp; Sardinia</td>\n",
       "      <td>Etna</td>\n",
       "      <td>NaN</td>\n",
       "      <td>Kerin O’Keefe</td>\n",
       "      <td>@kerinokeefe</td>\n",
       "      <td>Nicosia 2013 Vulkà Bianco  (Etna)</td>\n",
       "      <td>White Blend</td>\n",
       "      <td>Nicosia</td>\n",
       "    </tr>\n",
       "    <tr>\n",
       "      <th>1</th>\n",
       "      <td>Portugal</td>\n",
       "      <td>This is ripe and fruity, a wine that is smooth...</td>\n",
       "      <td>Avidagos</td>\n",
       "      <td>87</td>\n",
       "      <td>15.0</td>\n",
       "      <td>Douro</td>\n",
       "      <td>NaN</td>\n",
       "      <td>NaN</td>\n",
       "      <td>Roger Voss</td>\n",
       "      <td>@vossroger</td>\n",
       "      <td>Quinta dos Avidagos 2011 Avidagos Red (Douro)</td>\n",
       "      <td>Portuguese Red</td>\n",
       "      <td>Quinta dos Avidagos</td>\n",
       "    </tr>\n",
       "    <tr>\n",
       "      <th>2</th>\n",
       "      <td>US</td>\n",
       "      <td>Tart and snappy, the flavors of lime flesh and...</td>\n",
       "      <td>NaN</td>\n",
       "      <td>87</td>\n",
       "      <td>14.0</td>\n",
       "      <td>Oregon</td>\n",
       "      <td>Willamette Valley</td>\n",
       "      <td>Willamette Valley</td>\n",
       "      <td>Paul Gregutt</td>\n",
       "      <td>@paulgwine</td>\n",
       "      <td>Rainstorm 2013 Pinot Gris (Willamette Valley)</td>\n",
       "      <td>Pinot Gris</td>\n",
       "      <td>Rainstorm</td>\n",
       "    </tr>\n",
       "    <tr>\n",
       "      <th>3</th>\n",
       "      <td>US</td>\n",
       "      <td>Pineapple rind, lemon pith and orange blossom ...</td>\n",
       "      <td>Reserve Late Harvest</td>\n",
       "      <td>87</td>\n",
       "      <td>13.0</td>\n",
       "      <td>Michigan</td>\n",
       "      <td>Lake Michigan Shore</td>\n",
       "      <td>NaN</td>\n",
       "      <td>Alexander Peartree</td>\n",
       "      <td>NaN</td>\n",
       "      <td>St. Julian 2013 Reserve Late Harvest Riesling ...</td>\n",
       "      <td>Riesling</td>\n",
       "      <td>St. Julian</td>\n",
       "    </tr>\n",
       "    <tr>\n",
       "      <th>4</th>\n",
       "      <td>US</td>\n",
       "      <td>Much like the regular bottling from 2012, this...</td>\n",
       "      <td>Vintner's Reserve Wild Child Block</td>\n",
       "      <td>87</td>\n",
       "      <td>65.0</td>\n",
       "      <td>Oregon</td>\n",
       "      <td>Willamette Valley</td>\n",
       "      <td>Willamette Valley</td>\n",
       "      <td>Paul Gregutt</td>\n",
       "      <td>@paulgwine</td>\n",
       "      <td>Sweet Cheeks 2012 Vintner's Reserve Wild Child...</td>\n",
       "      <td>Pinot Noir</td>\n",
       "      <td>Sweet Cheeks</td>\n",
       "    </tr>\n",
       "  </tbody>\n",
       "</table>\n",
       "</div>"
      ],
      "text/plain": [
       "    country                                        description  \\\n",
       "0     Italy  Aromas include tropical fruit, broom, brimston...   \n",
       "1  Portugal  This is ripe and fruity, a wine that is smooth...   \n",
       "2        US  Tart and snappy, the flavors of lime flesh and...   \n",
       "3        US  Pineapple rind, lemon pith and orange blossom ...   \n",
       "4        US  Much like the regular bottling from 2012, this...   \n",
       "\n",
       "                          designation  points  price           province  \\\n",
       "0                        Vulkà Bianco      87    NaN  Sicily & Sardinia   \n",
       "1                            Avidagos      87   15.0              Douro   \n",
       "2                                 NaN      87   14.0             Oregon   \n",
       "3                Reserve Late Harvest      87   13.0           Michigan   \n",
       "4  Vintner's Reserve Wild Child Block      87   65.0             Oregon   \n",
       "\n",
       "              region_1           region_2         taster_name  \\\n",
       "0                 Etna                NaN       Kerin O’Keefe   \n",
       "1                  NaN                NaN          Roger Voss   \n",
       "2    Willamette Valley  Willamette Valley        Paul Gregutt   \n",
       "3  Lake Michigan Shore                NaN  Alexander Peartree   \n",
       "4    Willamette Valley  Willamette Valley        Paul Gregutt   \n",
       "\n",
       "  taster_twitter_handle                                              title  \\\n",
       "0          @kerinokeefe                  Nicosia 2013 Vulkà Bianco  (Etna)   \n",
       "1            @vossroger      Quinta dos Avidagos 2011 Avidagos Red (Douro)   \n",
       "2           @paulgwine       Rainstorm 2013 Pinot Gris (Willamette Valley)   \n",
       "3                   NaN  St. Julian 2013 Reserve Late Harvest Riesling ...   \n",
       "4           @paulgwine   Sweet Cheeks 2012 Vintner's Reserve Wild Child...   \n",
       "\n",
       "          variety               winery  \n",
       "0     White Blend              Nicosia  \n",
       "1  Portuguese Red  Quinta dos Avidagos  \n",
       "2      Pinot Gris            Rainstorm  \n",
       "3        Riesling           St. Julian  \n",
       "4      Pinot Noir         Sweet Cheeks  "
      ]
     },
     "execution_count": 1,
     "metadata": {},
     "output_type": "execute_result"
    }
   ],
   "source": [
    "import pandas as pd\n",
    "pd.set_option(\"display.max_rows\", 5)\n",
    "reviews = pd.read_csv(\"../input/wine-reviews/winemag-data-130k-v2.csv\", index_col=0)\n",
    "\n",
    "from learntools.core import binder; binder.bind(globals())\n",
    "from learntools.pandas.summary_functions_and_maps import *\n",
    "print(\"Setup complete.\")\n",
    "\n",
    "reviews.head()"
   ]
  },
  {
   "cell_type": "markdown",
   "id": "b5b40a80",
   "metadata": {
    "papermill": {
     "duration": 0.005731,
     "end_time": "2024-09-14T09:07:07.502593",
     "exception": false,
     "start_time": "2024-09-14T09:07:07.496862",
     "status": "completed"
    },
    "tags": []
   },
   "source": [
    "# Exercises"
   ]
  },
  {
   "cell_type": "markdown",
   "id": "cb9ccaca",
   "metadata": {
    "papermill": {
     "duration": 0.005658,
     "end_time": "2024-09-14T09:07:07.514212",
     "exception": false,
     "start_time": "2024-09-14T09:07:07.508554",
     "status": "completed"
    },
    "tags": []
   },
   "source": [
    "## 1.\n",
    "\n",
    "What is the median of the `points` column in the `reviews` DataFrame?"
   ]
  },
  {
   "cell_type": "code",
   "execution_count": 2,
   "id": "510d23a8",
   "metadata": {
    "execution": {
     "iopub.execute_input": "2024-09-14T09:07:07.528221Z",
     "iopub.status.busy": "2024-09-14T09:07:07.527444Z",
     "iopub.status.idle": "2024-09-14T09:07:07.538139Z",
     "shell.execute_reply": "2024-09-14T09:07:07.537083Z"
    },
    "papermill": {
     "duration": 0.020038,
     "end_time": "2024-09-14T09:07:07.540209",
     "exception": false,
     "start_time": "2024-09-14T09:07:07.520171",
     "status": "completed"
    },
    "tags": []
   },
   "outputs": [
    {
     "data": {
      "application/javascript": [
       "parent.postMessage({\"jupyterEvent\": \"custom.exercise_interaction\", \"data\": {\"outcomeType\": 1, \"valueTowardsCompletion\": 0.14285714285714285, \"interactionType\": 1, \"questionType\": 1, \"questionId\": \"1_MedianPoints\", \"learnToolsVersion\": \"0.3.4\", \"failureMessage\": \"\", \"exceptionClass\": \"\", \"trace\": \"\"}}, \"*\")"
      ],
      "text/plain": [
       "<IPython.core.display.Javascript object>"
      ]
     },
     "metadata": {},
     "output_type": "display_data"
    },
    {
     "data": {
      "text/markdown": [
       "<span style=\"color:#33cc33\">Correct</span>"
      ],
      "text/plain": [
       "Correct"
      ]
     },
     "metadata": {},
     "output_type": "display_data"
    }
   ],
   "source": [
    "median_points = reviews.points.median()\n",
    "\n",
    "# Check your answer\n",
    "q1.check()"
   ]
  },
  {
   "cell_type": "code",
   "execution_count": 3,
   "id": "ac68b7b8",
   "metadata": {
    "execution": {
     "iopub.execute_input": "2024-09-14T09:07:07.554677Z",
     "iopub.status.busy": "2024-09-14T09:07:07.553939Z",
     "iopub.status.idle": "2024-09-14T09:07:07.558194Z",
     "shell.execute_reply": "2024-09-14T09:07:07.557277Z"
    },
    "papermill": {
     "duration": 0.013835,
     "end_time": "2024-09-14T09:07:07.560325",
     "exception": false,
     "start_time": "2024-09-14T09:07:07.546490",
     "status": "completed"
    },
    "tags": []
   },
   "outputs": [],
   "source": [
    "#q1.hint()\n",
    "#q1.solution()"
   ]
  },
  {
   "cell_type": "markdown",
   "id": "03144323",
   "metadata": {
    "papermill": {
     "duration": 0.006027,
     "end_time": "2024-09-14T09:07:07.572673",
     "exception": false,
     "start_time": "2024-09-14T09:07:07.566646",
     "status": "completed"
    },
    "tags": []
   },
   "source": [
    "## 2. \n",
    "What countries are represented in the dataset? (Your answer should not include any duplicates.)"
   ]
  },
  {
   "cell_type": "code",
   "execution_count": 4,
   "id": "6f0aa2a0",
   "metadata": {
    "execution": {
     "iopub.execute_input": "2024-09-14T09:07:07.586710Z",
     "iopub.status.busy": "2024-09-14T09:07:07.586326Z",
     "iopub.status.idle": "2024-09-14T09:07:07.600965Z",
     "shell.execute_reply": "2024-09-14T09:07:07.600000Z"
    },
    "papermill": {
     "duration": 0.024394,
     "end_time": "2024-09-14T09:07:07.603210",
     "exception": false,
     "start_time": "2024-09-14T09:07:07.578816",
     "status": "completed"
    },
    "tags": []
   },
   "outputs": [
    {
     "name": "stdout",
     "output_type": "stream",
     "text": [
      "['Italy' 'Portugal' 'US' 'Spain' 'France' 'Germany' 'Argentina' 'Chile'\n",
      " 'Australia' 'Austria' 'South Africa' 'New Zealand' 'Israel' 'Hungary'\n",
      " 'Greece' 'Romania' 'Mexico' 'Canada' nan 'Turkey' 'Czech Republic'\n",
      " 'Slovenia' 'Luxembourg' 'Croatia' 'Georgia' 'Uruguay' 'England' 'Lebanon'\n",
      " 'Serbia' 'Brazil' 'Moldova' 'Morocco' 'Peru' 'India' 'Bulgaria' 'Cyprus'\n",
      " 'Armenia' 'Switzerland' 'Bosnia and Herzegovina' 'Ukraine' 'Slovakia'\n",
      " 'Macedonia' 'China' 'Egypt']\n"
     ]
    },
    {
     "data": {
      "application/javascript": [
       "parent.postMessage({\"jupyterEvent\": \"custom.exercise_interaction\", \"data\": {\"outcomeType\": 1, \"valueTowardsCompletion\": 0.14285714285714285, \"interactionType\": 1, \"questionType\": 2, \"questionId\": \"2_UniqueCountries\", \"learnToolsVersion\": \"0.3.4\", \"failureMessage\": \"\", \"exceptionClass\": \"\", \"trace\": \"\"}}, \"*\")"
      ],
      "text/plain": [
       "<IPython.core.display.Javascript object>"
      ]
     },
     "metadata": {},
     "output_type": "display_data"
    },
    {
     "data": {
      "text/markdown": [
       "<span style=\"color:#33cc33\">Correct</span>"
      ],
      "text/plain": [
       "Correct"
      ]
     },
     "metadata": {},
     "output_type": "display_data"
    }
   ],
   "source": [
    "countries = reviews.country.unique()\n",
    "print(countries)\n",
    "\n",
    "# Check your answer\n",
    "q2.check()"
   ]
  },
  {
   "cell_type": "code",
   "execution_count": 5,
   "id": "29d1ddc2",
   "metadata": {
    "execution": {
     "iopub.execute_input": "2024-09-14T09:07:07.618809Z",
     "iopub.status.busy": "2024-09-14T09:07:07.617953Z",
     "iopub.status.idle": "2024-09-14T09:07:07.622281Z",
     "shell.execute_reply": "2024-09-14T09:07:07.621218Z"
    },
    "papermill": {
     "duration": 0.014296,
     "end_time": "2024-09-14T09:07:07.624279",
     "exception": false,
     "start_time": "2024-09-14T09:07:07.609983",
     "status": "completed"
    },
    "tags": []
   },
   "outputs": [],
   "source": [
    "#q2.hint()\n",
    "#q2.solution()"
   ]
  },
  {
   "cell_type": "markdown",
   "id": "aeea3ef7",
   "metadata": {
    "papermill": {
     "duration": 0.006542,
     "end_time": "2024-09-14T09:07:07.637663",
     "exception": false,
     "start_time": "2024-09-14T09:07:07.631121",
     "status": "completed"
    },
    "tags": []
   },
   "source": [
    "## 3.\n",
    "How often does each country appear in the dataset? Create a Series `reviews_per_country` mapping countries to the count of reviews of wines from that country."
   ]
  },
  {
   "cell_type": "code",
   "execution_count": 6,
   "id": "c7491c3c",
   "metadata": {
    "execution": {
     "iopub.execute_input": "2024-09-14T09:07:07.652808Z",
     "iopub.status.busy": "2024-09-14T09:07:07.652424Z",
     "iopub.status.idle": "2024-09-14T09:07:07.673274Z",
     "shell.execute_reply": "2024-09-14T09:07:07.672159Z"
    },
    "papermill": {
     "duration": 0.030942,
     "end_time": "2024-09-14T09:07:07.675385",
     "exception": false,
     "start_time": "2024-09-14T09:07:07.644443",
     "status": "completed"
    },
    "tags": []
   },
   "outputs": [
    {
     "name": "stdout",
     "output_type": "stream",
     "text": [
      "country\n",
      "US        54504\n",
      "France    22093\n",
      "          ...  \n",
      "China         1\n",
      "Egypt         1\n",
      "Name: count, Length: 43, dtype: int64\n"
     ]
    },
    {
     "data": {
      "application/javascript": [
       "parent.postMessage({\"jupyterEvent\": \"custom.exercise_interaction\", \"data\": {\"outcomeType\": 1, \"valueTowardsCompletion\": 0.14285714285714285, \"interactionType\": 1, \"questionType\": 1, \"questionId\": \"3_ReviewsPerCountry\", \"learnToolsVersion\": \"0.3.4\", \"failureMessage\": \"\", \"exceptionClass\": \"\", \"trace\": \"\"}}, \"*\")"
      ],
      "text/plain": [
       "<IPython.core.display.Javascript object>"
      ]
     },
     "metadata": {},
     "output_type": "display_data"
    },
    {
     "data": {
      "text/markdown": [
       "<span style=\"color:#33cc33\">Correct</span>"
      ],
      "text/plain": [
       "Correct"
      ]
     },
     "metadata": {},
     "output_type": "display_data"
    }
   ],
   "source": [
    "reviews_per_country = reviews.country.value_counts()\n",
    "print(reviews_per_country)\n",
    "# Check your answer\n",
    "q3.check()"
   ]
  },
  {
   "cell_type": "code",
   "execution_count": 7,
   "id": "c7a33f4f",
   "metadata": {
    "execution": {
     "iopub.execute_input": "2024-09-14T09:07:07.691798Z",
     "iopub.status.busy": "2024-09-14T09:07:07.690708Z",
     "iopub.status.idle": "2024-09-14T09:07:07.696148Z",
     "shell.execute_reply": "2024-09-14T09:07:07.695105Z"
    },
    "papermill": {
     "duration": 0.016319,
     "end_time": "2024-09-14T09:07:07.698672",
     "exception": false,
     "start_time": "2024-09-14T09:07:07.682353",
     "status": "completed"
    },
    "tags": []
   },
   "outputs": [],
   "source": [
    "#q3.hint()\n",
    "#q3.solution()"
   ]
  },
  {
   "cell_type": "markdown",
   "id": "487c6c01",
   "metadata": {
    "papermill": {
     "duration": 0.006893,
     "end_time": "2024-09-14T09:07:07.713037",
     "exception": false,
     "start_time": "2024-09-14T09:07:07.706144",
     "status": "completed"
    },
    "tags": []
   },
   "source": [
    "## 4.\n",
    "Create variable `centered_price` containing a version of the `price` column with the mean price subtracted.\n",
    "\n",
    "(Note: this 'centering' transformation is a common preprocessing step before applying various machine learning algorithms.) "
   ]
  },
  {
   "cell_type": "code",
   "execution_count": 8,
   "id": "a8a01249",
   "metadata": {
    "execution": {
     "iopub.execute_input": "2024-09-14T09:07:07.729986Z",
     "iopub.status.busy": "2024-09-14T09:07:07.729005Z",
     "iopub.status.idle": "2024-09-14T09:07:07.739572Z",
     "shell.execute_reply": "2024-09-14T09:07:07.738522Z"
    },
    "papermill": {
     "duration": 0.021457,
     "end_time": "2024-09-14T09:07:07.741961",
     "exception": false,
     "start_time": "2024-09-14T09:07:07.720504",
     "status": "completed"
    },
    "tags": []
   },
   "outputs": [
    {
     "data": {
      "application/javascript": [
       "parent.postMessage({\"jupyterEvent\": \"custom.exercise_interaction\", \"data\": {\"outcomeType\": 1, \"valueTowardsCompletion\": 0.14285714285714285, \"interactionType\": 1, \"questionType\": 1, \"questionId\": \"4_CenteredPrice\", \"learnToolsVersion\": \"0.3.4\", \"failureMessage\": \"\", \"exceptionClass\": \"\", \"trace\": \"\"}}, \"*\")"
      ],
      "text/plain": [
       "<IPython.core.display.Javascript object>"
      ]
     },
     "metadata": {},
     "output_type": "display_data"
    },
    {
     "data": {
      "text/markdown": [
       "<span style=\"color:#33cc33\">Correct</span>"
      ],
      "text/plain": [
       "Correct"
      ]
     },
     "metadata": {},
     "output_type": "display_data"
    }
   ],
   "source": [
    "centered_price = reviews.price-reviews.price.mean()\n",
    "\n",
    "# Check your answer\n",
    "q4.check()"
   ]
  },
  {
   "cell_type": "code",
   "execution_count": 9,
   "id": "0969e25e",
   "metadata": {
    "execution": {
     "iopub.execute_input": "2024-09-14T09:07:07.759002Z",
     "iopub.status.busy": "2024-09-14T09:07:07.757946Z",
     "iopub.status.idle": "2024-09-14T09:07:07.762745Z",
     "shell.execute_reply": "2024-09-14T09:07:07.761745Z"
    },
    "papermill": {
     "duration": 0.015354,
     "end_time": "2024-09-14T09:07:07.764783",
     "exception": false,
     "start_time": "2024-09-14T09:07:07.749429",
     "status": "completed"
    },
    "tags": []
   },
   "outputs": [],
   "source": [
    "#q4.hint()\n",
    "#q4.solution()"
   ]
  },
  {
   "cell_type": "markdown",
   "id": "ed562e8c",
   "metadata": {
    "papermill": {
     "duration": 0.007093,
     "end_time": "2024-09-14T09:07:07.779326",
     "exception": false,
     "start_time": "2024-09-14T09:07:07.772233",
     "status": "completed"
    },
    "tags": []
   },
   "source": [
    "## 5.\n",
    "I'm an economical wine buyer. Which wine is the \"best bargain\"? Create a variable `bargain_wine` with the title of the wine with the highest points-to-price ratio in the dataset."
   ]
  },
  {
   "cell_type": "code",
   "execution_count": 10,
   "id": "b6f324ae",
   "metadata": {
    "execution": {
     "iopub.execute_input": "2024-09-14T09:07:07.796529Z",
     "iopub.status.busy": "2024-09-14T09:07:07.795448Z",
     "iopub.status.idle": "2024-09-14T09:07:07.809913Z",
     "shell.execute_reply": "2024-09-14T09:07:07.808780Z"
    },
    "papermill": {
     "duration": 0.025282,
     "end_time": "2024-09-14T09:07:07.812123",
     "exception": false,
     "start_time": "2024-09-14T09:07:07.786841",
     "status": "completed"
    },
    "tags": []
   },
   "outputs": [
    {
     "name": "stdout",
     "output_type": "stream",
     "text": [
      "Bandit NV Merlot (California)\n"
     ]
    },
    {
     "data": {
      "application/javascript": [
       "parent.postMessage({\"jupyterEvent\": \"custom.exercise_interaction\", \"data\": {\"outcomeType\": 1, \"valueTowardsCompletion\": 0.14285714285714285, \"interactionType\": 1, \"questionType\": 2, \"questionId\": \"5_BargainWine\", \"learnToolsVersion\": \"0.3.4\", \"failureMessage\": \"\", \"exceptionClass\": \"\", \"trace\": \"\"}}, \"*\")"
      ],
      "text/plain": [
       "<IPython.core.display.Javascript object>"
      ]
     },
     "metadata": {},
     "output_type": "display_data"
    },
    {
     "data": {
      "text/markdown": [
       "<span style=\"color:#33cc33\">Correct</span>"
      ],
      "text/plain": [
       "Correct"
      ]
     },
     "metadata": {},
     "output_type": "display_data"
    }
   ],
   "source": [
    "#bargain_wine = reviews.loc[(reviews.points / reviews.price).idxmax(), 'title']\n",
    "bargain_wine=reviews.loc[(reviews.points / reviews.price).idxmax(), 'title']\n",
    "print(bargain_wine)\n",
    "\n",
    "\n",
    "# Check your answer\n",
    "q5.check()"
   ]
  },
  {
   "cell_type": "code",
   "execution_count": 11,
   "id": "234069ec",
   "metadata": {
    "execution": {
     "iopub.execute_input": "2024-09-14T09:07:07.829942Z",
     "iopub.status.busy": "2024-09-14T09:07:07.829120Z",
     "iopub.status.idle": "2024-09-14T09:07:07.833650Z",
     "shell.execute_reply": "2024-09-14T09:07:07.832526Z"
    },
    "papermill": {
     "duration": 0.015917,
     "end_time": "2024-09-14T09:07:07.835751",
     "exception": false,
     "start_time": "2024-09-14T09:07:07.819834",
     "status": "completed"
    },
    "tags": []
   },
   "outputs": [],
   "source": [
    "#q5.hint()\n",
    "#q5.solution()"
   ]
  },
  {
   "cell_type": "markdown",
   "id": "0bf32120",
   "metadata": {
    "papermill": {
     "duration": 0.007584,
     "end_time": "2024-09-14T09:07:07.851311",
     "exception": false,
     "start_time": "2024-09-14T09:07:07.843727",
     "status": "completed"
    },
    "tags": []
   },
   "source": [
    "## 6.\n",
    "There are only so many words you can use when describing a bottle of wine. Is a wine more likely to be \"tropical\" or \"fruity\"? Create a Series `descriptor_counts` counting how many times each of these two words appears in the `description` column in the dataset. (For simplicity, let's ignore the capitalized versions of these words.)"
   ]
  },
  {
   "cell_type": "code",
   "execution_count": 12,
   "id": "59bacbe7",
   "metadata": {
    "execution": {
     "iopub.execute_input": "2024-09-14T09:07:07.868625Z",
     "iopub.status.busy": "2024-09-14T09:07:07.868017Z",
     "iopub.status.idle": "2024-09-14T09:07:08.007298Z",
     "shell.execute_reply": "2024-09-14T09:07:08.006143Z"
    },
    "papermill": {
     "duration": 0.150586,
     "end_time": "2024-09-14T09:07:08.009629",
     "exception": false,
     "start_time": "2024-09-14T09:07:07.859043",
     "status": "completed"
    },
    "tags": []
   },
   "outputs": [
    {
     "data": {
      "application/javascript": [
       "parent.postMessage({\"jupyterEvent\": \"custom.exercise_interaction\", \"data\": {\"outcomeType\": 1, \"valueTowardsCompletion\": 0.14285714285714285, \"interactionType\": 1, \"questionType\": 1, \"questionId\": \"6_DescriptorCounts\", \"learnToolsVersion\": \"0.3.4\", \"failureMessage\": \"\", \"exceptionClass\": \"\", \"trace\": \"\"}}, \"*\")"
      ],
      "text/plain": [
       "<IPython.core.display.Javascript object>"
      ]
     },
     "metadata": {},
     "output_type": "display_data"
    },
    {
     "data": {
      "text/markdown": [
       "<span style=\"color:#33cc33\">Correct</span>"
      ],
      "text/plain": [
       "Correct"
      ]
     },
     "metadata": {},
     "output_type": "display_data"
    }
   ],
   "source": [
    "tropical=reviews.description.map(lambda x: \"tropical\" in x).sum()\n",
    "fruity=reviews.description.map(lambda x: \"fruity\" in x).sum()\n",
    "descriptor_counts=pd.Series([tropical,fruity],index=['tropical','fruity'])\n",
    "\n",
    "# Check your answer\n",
    "q6.check()"
   ]
  },
  {
   "cell_type": "code",
   "execution_count": 13,
   "id": "8c643850",
   "metadata": {
    "execution": {
     "iopub.execute_input": "2024-09-14T09:07:08.032800Z",
     "iopub.status.busy": "2024-09-14T09:07:08.032004Z",
     "iopub.status.idle": "2024-09-14T09:07:08.036540Z",
     "shell.execute_reply": "2024-09-14T09:07:08.035461Z"
    },
    "papermill": {
     "duration": 0.018905,
     "end_time": "2024-09-14T09:07:08.038710",
     "exception": false,
     "start_time": "2024-09-14T09:07:08.019805",
     "status": "completed"
    },
    "tags": []
   },
   "outputs": [],
   "source": [
    "#q6.hint()\n",
    "#q6.solution()"
   ]
  },
  {
   "cell_type": "markdown",
   "id": "d0f37393",
   "metadata": {
    "papermill": {
     "duration": 0.007752,
     "end_time": "2024-09-14T09:07:08.054736",
     "exception": false,
     "start_time": "2024-09-14T09:07:08.046984",
     "status": "completed"
    },
    "tags": []
   },
   "source": [
    "## 7.\n",
    "We'd like to host these wine reviews on our website, but a rating system ranging from 80 to 100 points is too hard to understand - we'd like to translate them into simple star ratings. A score of 95 or higher counts as 3 stars, a score of at least 85 but less than 95 is 2 stars. Any other score is 1 star.\n",
    "\n",
    "Also, the Canadian Vintners Association bought a lot of ads on the site, so any wines from Canada should automatically get 3 stars, regardless of points.\n",
    "\n",
    "Create a series `star_ratings` with the number of stars corresponding to each review in the dataset."
   ]
  },
  {
   "cell_type": "code",
   "execution_count": 14,
   "id": "2567c6f7",
   "metadata": {
    "execution": {
     "iopub.execute_input": "2024-09-14T09:07:08.072289Z",
     "iopub.status.busy": "2024-09-14T09:07:08.071858Z",
     "iopub.status.idle": "2024-09-14T09:07:11.430735Z",
     "shell.execute_reply": "2024-09-14T09:07:11.429509Z"
    },
    "papermill": {
     "duration": 3.370252,
     "end_time": "2024-09-14T09:07:11.432957",
     "exception": false,
     "start_time": "2024-09-14T09:07:08.062705",
     "status": "completed"
    },
    "tags": []
   },
   "outputs": [
    {
     "data": {
      "application/javascript": [
       "parent.postMessage({\"jupyterEvent\": \"custom.exercise_interaction\", \"data\": {\"outcomeType\": 1, \"valueTowardsCompletion\": 0.14285714285714285, \"interactionType\": 1, \"questionType\": 1, \"questionId\": \"7_StarRatings\", \"learnToolsVersion\": \"0.3.4\", \"failureMessage\": \"\", \"exceptionClass\": \"\", \"trace\": \"\"}}, \"*\")"
      ],
      "text/plain": [
       "<IPython.core.display.Javascript object>"
      ]
     },
     "metadata": {},
     "output_type": "display_data"
    },
    {
     "data": {
      "text/markdown": [
       "<span style=\"color:#33cc33\">Correct</span>"
      ],
      "text/plain": [
       "Correct"
      ]
     },
     "metadata": {},
     "output_type": "display_data"
    }
   ],
   "source": [
    "def rating(row):\n",
    "    return 3 if row.points >= 95 or row.country == 'Canada' else (2 if row.points >= 85 else 1)\n",
    "\n",
    "star_ratings = reviews.apply(rating, axis='columns')\n",
    "\n",
    "\n",
    "# Check your answer\n",
    "q7.check()"
   ]
  },
  {
   "cell_type": "code",
   "execution_count": 15,
   "id": "bdea998e",
   "metadata": {
    "execution": {
     "iopub.execute_input": "2024-09-14T09:07:11.451152Z",
     "iopub.status.busy": "2024-09-14T09:07:11.450699Z",
     "iopub.status.idle": "2024-09-14T09:07:11.455104Z",
     "shell.execute_reply": "2024-09-14T09:07:11.454140Z"
    },
    "papermill": {
     "duration": 0.016241,
     "end_time": "2024-09-14T09:07:11.457448",
     "exception": false,
     "start_time": "2024-09-14T09:07:11.441207",
     "status": "completed"
    },
    "tags": []
   },
   "outputs": [],
   "source": [
    "#q7.hint()\n",
    "#q7.solution()"
   ]
  },
  {
   "cell_type": "markdown",
   "id": "baa42fc1",
   "metadata": {
    "papermill": {
     "duration": 0.007907,
     "end_time": "2024-09-14T09:07:11.473583",
     "exception": false,
     "start_time": "2024-09-14T09:07:11.465676",
     "status": "completed"
    },
    "tags": []
   },
   "source": [
    "# Keep going\n",
    "Continue to **[grouping and sorting](https://www.kaggle.com/residentmario/grouping-and-sorting)**."
   ]
  },
  {
   "cell_type": "markdown",
   "id": "3a6730c4",
   "metadata": {
    "papermill": {
     "duration": 0.008101,
     "end_time": "2024-09-14T09:07:11.489771",
     "exception": false,
     "start_time": "2024-09-14T09:07:11.481670",
     "status": "completed"
    },
    "tags": []
   },
   "source": [
    "---\n",
    "\n",
    "\n",
    "\n",
    "\n",
    "*Have questions or comments? Visit the [course discussion forum](https://www.kaggle.com/learn/pandas/discussion) to chat with other learners.*"
   ]
  }
 ],
 "metadata": {
  "kaggle": {
   "accelerator": "none",
   "dataSources": [
    {
     "datasetId": 655,
     "sourceId": 1252,
     "sourceType": "datasetVersion"
    },
    {
     "datasetId": 2321,
     "sourceId": 3919,
     "sourceType": "datasetVersion"
    },
    {
     "datasetId": 2894,
     "sourceId": 4877,
     "sourceType": "datasetVersion"
    },
    {
     "datasetId": 3491,
     "sourceId": 5624,
     "sourceType": "datasetVersion"
    },
    {
     "datasetId": 1442,
     "sourceId": 8172,
     "sourceType": "datasetVersion"
    },
    {
     "datasetId": 9366,
     "sourceId": 13206,
     "sourceType": "datasetVersion"
    },
    {
     "datasetId": 179555,
     "sourceId": 403916,
     "sourceType": "datasetVersion"
    },
    {
     "datasetId": 4549,
     "sourceId": 466349,
     "sourceType": "datasetVersion"
    },
    {
     "datasetId": 2478,
     "sourceId": 1151655,
     "sourceType": "datasetVersion"
    },
    {
     "datasetId": 10128,
     "sourceId": 5438389,
     "sourceType": "datasetVersion"
    }
   ],
   "isGpuEnabled": false,
   "isInternetEnabled": false,
   "language": "python",
   "sourceType": "notebook"
  },
  "kernelspec": {
   "display_name": "Python 3",
   "language": "python",
   "name": "python3"
  },
  "language_info": {
   "codemirror_mode": {
    "name": "ipython",
    "version": 3
   },
   "file_extension": ".py",
   "mimetype": "text/x-python",
   "name": "python",
   "nbconvert_exporter": "python",
   "pygments_lexer": "ipython3",
   "version": "3.10.14"
  },
  "papermill": {
   "default_parameters": {},
   "duration": 13.980864,
   "end_time": "2024-09-14T09:07:12.018305",
   "environment_variables": {},
   "exception": null,
   "input_path": "__notebook__.ipynb",
   "output_path": "__notebook__.ipynb",
   "parameters": {},
   "start_time": "2024-09-14T09:06:58.037441",
   "version": "2.6.0"
  }
 },
 "nbformat": 4,
 "nbformat_minor": 5
}
