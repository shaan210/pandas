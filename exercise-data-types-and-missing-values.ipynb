{
 "cells": [
  {
   "cell_type": "markdown",
   "id": "f36ef526",
   "metadata": {
    "papermill": {
     "duration": 0.005092,
     "end_time": "2024-09-14T09:08:27.214675",
     "exception": false,
     "start_time": "2024-09-14T09:08:27.209583",
     "status": "completed"
    },
    "tags": []
   },
   "source": [
    "**This notebook is an exercise in the [Pandas](https://www.kaggle.com/learn/pandas) course.  You can reference the tutorial at [this link](https://www.kaggle.com/residentmario/data-types-and-missing-values).**\n",
    "\n",
    "---\n"
   ]
  },
  {
   "cell_type": "markdown",
   "id": "7608c05e",
   "metadata": {
    "papermill": {
     "duration": 0.004897,
     "end_time": "2024-09-14T09:08:27.224385",
     "exception": false,
     "start_time": "2024-09-14T09:08:27.219488",
     "status": "completed"
    },
    "tags": []
   },
   "source": [
    "# Introduction\n",
    "\n",
    "Run the following cell to load your data and some utility functions."
   ]
  },
  {
   "cell_type": "code",
   "execution_count": 1,
   "id": "9b433238",
   "metadata": {
    "execution": {
     "iopub.execute_input": "2024-09-14T09:08:27.235307Z",
     "iopub.status.busy": "2024-09-14T09:08:27.234744Z",
     "iopub.status.idle": "2024-09-14T09:08:30.862320Z",
     "shell.execute_reply": "2024-09-14T09:08:30.860818Z"
    },
    "papermill": {
     "duration": 3.636272,
     "end_time": "2024-09-14T09:08:30.865226",
     "exception": false,
     "start_time": "2024-09-14T09:08:27.228954",
     "status": "completed"
    },
    "tags": []
   },
   "outputs": [
    {
     "name": "stdout",
     "output_type": "stream",
     "text": [
      "Setup complete.\n"
     ]
    }
   ],
   "source": [
    "import pandas as pd\n",
    "\n",
    "reviews = pd.read_csv(\"../input/wine-reviews/winemag-data-130k-v2.csv\", index_col=0)\n",
    "\n",
    "from learntools.core import binder; binder.bind(globals())\n",
    "from learntools.pandas.data_types_and_missing_data import *\n",
    "print(\"Setup complete.\")"
   ]
  },
  {
   "cell_type": "markdown",
   "id": "00273306",
   "metadata": {
    "papermill": {
     "duration": 0.004424,
     "end_time": "2024-09-14T09:08:30.874337",
     "exception": false,
     "start_time": "2024-09-14T09:08:30.869913",
     "status": "completed"
    },
    "tags": []
   },
   "source": [
    "# Exercises"
   ]
  },
  {
   "cell_type": "markdown",
   "id": "12576de2",
   "metadata": {
    "papermill": {
     "duration": 0.005207,
     "end_time": "2024-09-14T09:08:30.884623",
     "exception": false,
     "start_time": "2024-09-14T09:08:30.879416",
     "status": "completed"
    },
    "tags": []
   },
   "source": [
    "## 1. \n",
    "What is the data type of the `points` column in the dataset?"
   ]
  },
  {
   "cell_type": "code",
   "execution_count": 2,
   "id": "d1e12543",
   "metadata": {
    "execution": {
     "iopub.execute_input": "2024-09-14T09:08:30.896339Z",
     "iopub.status.busy": "2024-09-14T09:08:30.895374Z",
     "iopub.status.idle": "2024-09-14T09:08:30.907385Z",
     "shell.execute_reply": "2024-09-14T09:08:30.906216Z"
    },
    "papermill": {
     "duration": 0.020837,
     "end_time": "2024-09-14T09:08:30.910098",
     "exception": false,
     "start_time": "2024-09-14T09:08:30.889261",
     "status": "completed"
    },
    "tags": []
   },
   "outputs": [
    {
     "data": {
      "application/javascript": [
       "parent.postMessage({\"jupyterEvent\": \"custom.exercise_interaction\", \"data\": {\"outcomeType\": 1, \"valueTowardsCompletion\": 0.25, \"interactionType\": 1, \"questionType\": 1, \"questionId\": \"1_PointsDtype\", \"learnToolsVersion\": \"0.3.4\", \"failureMessage\": \"\", \"exceptionClass\": \"\", \"trace\": \"\"}}, \"*\")"
      ],
      "text/plain": [
       "<IPython.core.display.Javascript object>"
      ]
     },
     "metadata": {},
     "output_type": "display_data"
    },
    {
     "data": {
      "text/markdown": [
       "<span style=\"color:#33cc33\">Correct</span>"
      ],
      "text/plain": [
       "Correct"
      ]
     },
     "metadata": {},
     "output_type": "display_data"
    }
   ],
   "source": [
    "# Your code here\n",
    "dtype = reviews.points.dtype\n",
    "\n",
    "# Check your answer\n",
    "q1.check()"
   ]
  },
  {
   "cell_type": "code",
   "execution_count": 3,
   "id": "979fa67b",
   "metadata": {
    "execution": {
     "iopub.execute_input": "2024-09-14T09:08:30.921925Z",
     "iopub.status.busy": "2024-09-14T09:08:30.921214Z",
     "iopub.status.idle": "2024-09-14T09:08:30.926739Z",
     "shell.execute_reply": "2024-09-14T09:08:30.925443Z"
    },
    "papermill": {
     "duration": 0.014298,
     "end_time": "2024-09-14T09:08:30.929282",
     "exception": false,
     "start_time": "2024-09-14T09:08:30.914984",
     "status": "completed"
    },
    "tags": []
   },
   "outputs": [],
   "source": [
    "#q1.hint()\n",
    "#q1.solution()"
   ]
  },
  {
   "cell_type": "markdown",
   "id": "9e6dad16",
   "metadata": {
    "papermill": {
     "duration": 0.004593,
     "end_time": "2024-09-14T09:08:30.938755",
     "exception": false,
     "start_time": "2024-09-14T09:08:30.934162",
     "status": "completed"
    },
    "tags": []
   },
   "source": [
    "## 2. \n",
    "Create a Series from entries in the `points` column, but convert the entries to strings. Hint: strings are `str` in native Python."
   ]
  },
  {
   "cell_type": "code",
   "execution_count": 4,
   "id": "a91dd462",
   "metadata": {
    "execution": {
     "iopub.execute_input": "2024-09-14T09:08:30.950287Z",
     "iopub.status.busy": "2024-09-14T09:08:30.949777Z",
     "iopub.status.idle": "2024-09-14T09:08:30.997253Z",
     "shell.execute_reply": "2024-09-14T09:08:30.995660Z"
    },
    "papermill": {
     "duration": 0.05635,
     "end_time": "2024-09-14T09:08:30.999966",
     "exception": false,
     "start_time": "2024-09-14T09:08:30.943616",
     "status": "completed"
    },
    "tags": []
   },
   "outputs": [
    {
     "data": {
      "application/javascript": [
       "parent.postMessage({\"jupyterEvent\": \"custom.exercise_interaction\", \"data\": {\"outcomeType\": 1, \"valueTowardsCompletion\": 0.25, \"interactionType\": 1, \"questionType\": 1, \"questionId\": \"2_StrPoints\", \"learnToolsVersion\": \"0.3.4\", \"failureMessage\": \"\", \"exceptionClass\": \"\", \"trace\": \"\"}}, \"*\")"
      ],
      "text/plain": [
       "<IPython.core.display.Javascript object>"
      ]
     },
     "metadata": {},
     "output_type": "display_data"
    },
    {
     "data": {
      "text/markdown": [
       "<span style=\"color:#33cc33\">Correct</span>"
      ],
      "text/plain": [
       "Correct"
      ]
     },
     "metadata": {},
     "output_type": "display_data"
    }
   ],
   "source": [
    "point_strings = reviews.points.astype(str)\n",
    "\n",
    "# Check your answer\n",
    "q2.check()"
   ]
  },
  {
   "cell_type": "code",
   "execution_count": 5,
   "id": "98a13f36",
   "metadata": {
    "execution": {
     "iopub.execute_input": "2024-09-14T09:08:31.012198Z",
     "iopub.status.busy": "2024-09-14T09:08:31.011765Z",
     "iopub.status.idle": "2024-09-14T09:08:31.017375Z",
     "shell.execute_reply": "2024-09-14T09:08:31.015932Z"
    },
    "papermill": {
     "duration": 0.014965,
     "end_time": "2024-09-14T09:08:31.020114",
     "exception": false,
     "start_time": "2024-09-14T09:08:31.005149",
     "status": "completed"
    },
    "tags": []
   },
   "outputs": [],
   "source": [
    "#q2.hint()\n",
    "#q2.solution()"
   ]
  },
  {
   "cell_type": "markdown",
   "id": "4c0b8276",
   "metadata": {
    "papermill": {
     "duration": 0.004964,
     "end_time": "2024-09-14T09:08:31.030373",
     "exception": false,
     "start_time": "2024-09-14T09:08:31.025409",
     "status": "completed"
    },
    "tags": []
   },
   "source": [
    "## 3.\n",
    "Sometimes the price column is null. How many reviews in the dataset are missing a price?"
   ]
  },
  {
   "cell_type": "code",
   "execution_count": 6,
   "id": "39d5b905",
   "metadata": {
    "execution": {
     "iopub.execute_input": "2024-09-14T09:08:31.042582Z",
     "iopub.status.busy": "2024-09-14T09:08:31.042149Z",
     "iopub.status.idle": "2024-09-14T09:08:31.053403Z",
     "shell.execute_reply": "2024-09-14T09:08:31.052202Z"
    },
    "papermill": {
     "duration": 0.020714,
     "end_time": "2024-09-14T09:08:31.056300",
     "exception": false,
     "start_time": "2024-09-14T09:08:31.035586",
     "status": "completed"
    },
    "tags": []
   },
   "outputs": [
    {
     "data": {
      "application/javascript": [
       "parent.postMessage({\"jupyterEvent\": \"custom.exercise_interaction\", \"data\": {\"outcomeType\": 1, \"valueTowardsCompletion\": 0.25, \"interactionType\": 1, \"questionType\": 1, \"questionId\": \"3_CountMissingPrices\", \"learnToolsVersion\": \"0.3.4\", \"failureMessage\": \"\", \"exceptionClass\": \"\", \"trace\": \"\"}}, \"*\")"
      ],
      "text/plain": [
       "<IPython.core.display.Javascript object>"
      ]
     },
     "metadata": {},
     "output_type": "display_data"
    },
    {
     "data": {
      "text/markdown": [
       "<span style=\"color:#33cc33\">Correct</span>"
      ],
      "text/plain": [
       "Correct"
      ]
     },
     "metadata": {},
     "output_type": "display_data"
    }
   ],
   "source": [
    "n_missing_prices = reviews.price.isnull().sum()\n",
    "\n",
    "# Check your answer\n",
    "q3.check()"
   ]
  },
  {
   "cell_type": "code",
   "execution_count": 7,
   "id": "f45e5ed0",
   "metadata": {
    "execution": {
     "iopub.execute_input": "2024-09-14T09:08:31.069041Z",
     "iopub.status.busy": "2024-09-14T09:08:31.068614Z",
     "iopub.status.idle": "2024-09-14T09:08:31.073373Z",
     "shell.execute_reply": "2024-09-14T09:08:31.072122Z"
    },
    "papermill": {
     "duration": 0.013855,
     "end_time": "2024-09-14T09:08:31.075766",
     "exception": false,
     "start_time": "2024-09-14T09:08:31.061911",
     "status": "completed"
    },
    "tags": []
   },
   "outputs": [],
   "source": [
    "#q3.hint()\n",
    "#q3.solution()"
   ]
  },
  {
   "cell_type": "markdown",
   "id": "1934bb73",
   "metadata": {
    "papermill": {
     "duration": 0.005127,
     "end_time": "2024-09-14T09:08:31.086458",
     "exception": false,
     "start_time": "2024-09-14T09:08:31.081331",
     "status": "completed"
    },
    "tags": []
   },
   "source": [
    "## 4.\n",
    "What are the most common wine-producing regions? Create a Series counting the number of times each value occurs in the `region_1` field. This field is often missing data, so replace missing values with `Unknown`. Sort in descending order.  Your output should look something like this:\n",
    "\n",
    "```\n",
    "Unknown                    21247\n",
    "Napa Valley                 4480\n",
    "                           ...  \n",
    "Bardolino Superiore            1\n",
    "Primitivo del Tarantino        1\n",
    "Name: region_1, Length: 1230, dtype: int64\n",
    "```"
   ]
  },
  {
   "cell_type": "code",
   "execution_count": 8,
   "id": "a3bbdafc",
   "metadata": {
    "execution": {
     "iopub.execute_input": "2024-09-14T09:08:31.099044Z",
     "iopub.status.busy": "2024-09-14T09:08:31.098639Z",
     "iopub.status.idle": "2024-09-14T09:08:31.174184Z",
     "shell.execute_reply": "2024-09-14T09:08:31.172754Z"
    },
    "papermill": {
     "duration": 0.08484,
     "end_time": "2024-09-14T09:08:31.176665",
     "exception": false,
     "start_time": "2024-09-14T09:08:31.091825",
     "status": "completed"
    },
    "tags": []
   },
   "outputs": [
    {
     "data": {
      "application/javascript": [
       "parent.postMessage({\"jupyterEvent\": \"custom.exercise_interaction\", \"data\": {\"outcomeType\": 1, \"valueTowardsCompletion\": 0.25, \"interactionType\": 1, \"questionType\": 2, \"questionId\": \"4_ReviewsPerRegion\", \"learnToolsVersion\": \"0.3.4\", \"failureMessage\": \"\", \"exceptionClass\": \"\", \"trace\": \"\"}}, \"*\")"
      ],
      "text/plain": [
       "<IPython.core.display.Javascript object>"
      ]
     },
     "metadata": {},
     "output_type": "display_data"
    },
    {
     "data": {
      "text/markdown": [
       "<span style=\"color:#33cc33\">Correct</span>"
      ],
      "text/plain": [
       "Correct"
      ]
     },
     "metadata": {},
     "output_type": "display_data"
    }
   ],
   "source": [
    "reviews_per_region = reviews.region_1.fillna('Unknown').value_counts().sort_values(ascending=False)\n",
    "reviews_per_region= reviews.region_1.fillna('Unknown').value_counts().sort_values(ascending=False)\n",
    "\n",
    "# Check your answer\n",
    "q4.check()"
   ]
  },
  {
   "cell_type": "code",
   "execution_count": 9,
   "id": "72c09f99",
   "metadata": {
    "execution": {
     "iopub.execute_input": "2024-09-14T09:08:31.189845Z",
     "iopub.status.busy": "2024-09-14T09:08:31.189265Z",
     "iopub.status.idle": "2024-09-14T09:08:31.194272Z",
     "shell.execute_reply": "2024-09-14T09:08:31.192974Z"
    },
    "papermill": {
     "duration": 0.014537,
     "end_time": "2024-09-14T09:08:31.196863",
     "exception": false,
     "start_time": "2024-09-14T09:08:31.182326",
     "status": "completed"
    },
    "tags": []
   },
   "outputs": [],
   "source": [
    "#q4.hint()\n",
    "#q4.solution()"
   ]
  },
  {
   "cell_type": "markdown",
   "id": "45f03155",
   "metadata": {
    "papermill": {
     "duration": 0.005606,
     "end_time": "2024-09-14T09:08:31.208460",
     "exception": false,
     "start_time": "2024-09-14T09:08:31.202854",
     "status": "completed"
    },
    "tags": []
   },
   "source": [
    "# Keep going\n",
    "\n",
    "Move on to **[renaming and combining](https://www.kaggle.com/residentmario/renaming-and-combining)**."
   ]
  },
  {
   "cell_type": "markdown",
   "id": "1dc88f91",
   "metadata": {
    "papermill": {
     "duration": 0.005406,
     "end_time": "2024-09-14T09:08:31.219609",
     "exception": false,
     "start_time": "2024-09-14T09:08:31.214203",
     "status": "completed"
    },
    "tags": []
   },
   "source": [
    "---\n",
    "\n",
    "\n",
    "\n",
    "\n",
    "*Have questions or comments? Visit the [course discussion forum](https://www.kaggle.com/learn/pandas/discussion) to chat with other learners.*"
   ]
  }
 ],
 "metadata": {
  "kaggle": {
   "accelerator": "none",
   "dataSources": [
    {
     "datasetId": 655,
     "sourceId": 1252,
     "sourceType": "datasetVersion"
    },
    {
     "datasetId": 2321,
     "sourceId": 3919,
     "sourceType": "datasetVersion"
    },
    {
     "datasetId": 2894,
     "sourceId": 4877,
     "sourceType": "datasetVersion"
    },
    {
     "datasetId": 3491,
     "sourceId": 5624,
     "sourceType": "datasetVersion"
    },
    {
     "datasetId": 1442,
     "sourceId": 8172,
     "sourceType": "datasetVersion"
    },
    {
     "datasetId": 9366,
     "sourceId": 13206,
     "sourceType": "datasetVersion"
    },
    {
     "datasetId": 179555,
     "sourceId": 403916,
     "sourceType": "datasetVersion"
    },
    {
     "datasetId": 4549,
     "sourceId": 466349,
     "sourceType": "datasetVersion"
    },
    {
     "datasetId": 2478,
     "sourceId": 1151655,
     "sourceType": "datasetVersion"
    },
    {
     "datasetId": 10128,
     "sourceId": 5438389,
     "sourceType": "datasetVersion"
    }
   ],
   "isGpuEnabled": false,
   "isInternetEnabled": false,
   "language": "python",
   "sourceType": "notebook"
  },
  "kernelspec": {
   "display_name": "Python 3",
   "language": "python",
   "name": "python3"
  },
  "language_info": {
   "codemirror_mode": {
    "name": "ipython",
    "version": 3
   },
   "file_extension": ".py",
   "mimetype": "text/x-python",
   "name": "python",
   "nbconvert_exporter": "python",
   "pygments_lexer": "ipython3",
   "version": "3.10.14"
  },
  "papermill": {
   "default_parameters": {},
   "duration": 7.512759,
   "end_time": "2024-09-14T09:08:31.847038",
   "environment_variables": {},
   "exception": null,
   "input_path": "__notebook__.ipynb",
   "output_path": "__notebook__.ipynb",
   "parameters": {},
   "start_time": "2024-09-14T09:08:24.334279",
   "version": "2.6.0"
  }
 },
 "nbformat": 4,
 "nbformat_minor": 5
}
