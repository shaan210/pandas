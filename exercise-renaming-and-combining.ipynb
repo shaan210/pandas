{
 "cells": [
  {
   "cell_type": "markdown",
   "id": "3efa1328",
   "metadata": {
    "papermill": {
     "duration": 0.006153,
     "end_time": "2024-09-14T09:12:52.500779",
     "exception": false,
     "start_time": "2024-09-14T09:12:52.494626",
     "status": "completed"
    },
    "tags": []
   },
   "source": [
    "**This notebook is an exercise in the [Pandas](https://www.kaggle.com/learn/pandas) course.  You can reference the tutorial at [this link](https://www.kaggle.com/residentmario/renaming-and-combining).**\n",
    "\n",
    "---\n"
   ]
  },
  {
   "cell_type": "markdown",
   "id": "3a33e8f4",
   "metadata": {
    "papermill": {
     "duration": 0.004961,
     "end_time": "2024-09-14T09:12:52.511667",
     "exception": false,
     "start_time": "2024-09-14T09:12:52.506706",
     "status": "completed"
    },
    "tags": []
   },
   "source": [
    "# Introduction\n",
    "\n",
    "Run the following cell to load your data and some utility functions."
   ]
  },
  {
   "cell_type": "code",
   "execution_count": 1,
   "id": "5a6c5dd1",
   "metadata": {
    "execution": {
     "iopub.execute_input": "2024-09-14T09:12:52.523909Z",
     "iopub.status.busy": "2024-09-14T09:12:52.523498Z",
     "iopub.status.idle": "2024-09-14T09:12:57.133084Z",
     "shell.execute_reply": "2024-09-14T09:12:57.131752Z"
    },
    "papermill": {
     "duration": 4.618887,
     "end_time": "2024-09-14T09:12:57.135672",
     "exception": false,
     "start_time": "2024-09-14T09:12:52.516785",
     "status": "completed"
    },
    "tags": []
   },
   "outputs": [
    {
     "name": "stdout",
     "output_type": "stream",
     "text": [
      "Setup complete.\n"
     ]
    }
   ],
   "source": [
    "import pandas as pd\n",
    "\n",
    "reviews = pd.read_csv(\"../input/wine-reviews/winemag-data-130k-v2.csv\", index_col=0)\n",
    "\n",
    "from learntools.core import binder; binder.bind(globals())\n",
    "from learntools.pandas.renaming_and_combining import *\n",
    "print(\"Setup complete.\")"
   ]
  },
  {
   "cell_type": "markdown",
   "id": "9dacb932",
   "metadata": {
    "papermill": {
     "duration": 0.005132,
     "end_time": "2024-09-14T09:12:57.146396",
     "exception": false,
     "start_time": "2024-09-14T09:12:57.141264",
     "status": "completed"
    },
    "tags": []
   },
   "source": [
    "# Exercises\n",
    "\n",
    "View the first several lines of your data by running the cell below:"
   ]
  },
  {
   "cell_type": "code",
   "execution_count": 2,
   "id": "eac0cd18",
   "metadata": {
    "execution": {
     "iopub.execute_input": "2024-09-14T09:12:57.158929Z",
     "iopub.status.busy": "2024-09-14T09:12:57.158468Z",
     "iopub.status.idle": "2024-09-14T09:12:57.182306Z",
     "shell.execute_reply": "2024-09-14T09:12:57.181136Z"
    },
    "papermill": {
     "duration": 0.033041,
     "end_time": "2024-09-14T09:12:57.184849",
     "exception": false,
     "start_time": "2024-09-14T09:12:57.151808",
     "status": "completed"
    },
    "tags": []
   },
   "outputs": [
    {
     "data": {
      "text/html": [
       "<div>\n",
       "<style scoped>\n",
       "    .dataframe tbody tr th:only-of-type {\n",
       "        vertical-align: middle;\n",
       "    }\n",
       "\n",
       "    .dataframe tbody tr th {\n",
       "        vertical-align: top;\n",
       "    }\n",
       "\n",
       "    .dataframe thead th {\n",
       "        text-align: right;\n",
       "    }\n",
       "</style>\n",
       "<table border=\"1\" class=\"dataframe\">\n",
       "  <thead>\n",
       "    <tr style=\"text-align: right;\">\n",
       "      <th></th>\n",
       "      <th>country</th>\n",
       "      <th>description</th>\n",
       "      <th>designation</th>\n",
       "      <th>points</th>\n",
       "      <th>price</th>\n",
       "      <th>province</th>\n",
       "      <th>region_1</th>\n",
       "      <th>region_2</th>\n",
       "      <th>taster_name</th>\n",
       "      <th>taster_twitter_handle</th>\n",
       "      <th>title</th>\n",
       "      <th>variety</th>\n",
       "      <th>winery</th>\n",
       "    </tr>\n",
       "  </thead>\n",
       "  <tbody>\n",
       "    <tr>\n",
       "      <th>0</th>\n",
       "      <td>Italy</td>\n",
       "      <td>Aromas include tropical fruit, broom, brimston...</td>\n",
       "      <td>Vulkà Bianco</td>\n",
       "      <td>87</td>\n",
       "      <td>NaN</td>\n",
       "      <td>Sicily &amp; Sardinia</td>\n",
       "      <td>Etna</td>\n",
       "      <td>NaN</td>\n",
       "      <td>Kerin O’Keefe</td>\n",
       "      <td>@kerinokeefe</td>\n",
       "      <td>Nicosia 2013 Vulkà Bianco  (Etna)</td>\n",
       "      <td>White Blend</td>\n",
       "      <td>Nicosia</td>\n",
       "    </tr>\n",
       "    <tr>\n",
       "      <th>1</th>\n",
       "      <td>Portugal</td>\n",
       "      <td>This is ripe and fruity, a wine that is smooth...</td>\n",
       "      <td>Avidagos</td>\n",
       "      <td>87</td>\n",
       "      <td>15.0</td>\n",
       "      <td>Douro</td>\n",
       "      <td>NaN</td>\n",
       "      <td>NaN</td>\n",
       "      <td>Roger Voss</td>\n",
       "      <td>@vossroger</td>\n",
       "      <td>Quinta dos Avidagos 2011 Avidagos Red (Douro)</td>\n",
       "      <td>Portuguese Red</td>\n",
       "      <td>Quinta dos Avidagos</td>\n",
       "    </tr>\n",
       "    <tr>\n",
       "      <th>2</th>\n",
       "      <td>US</td>\n",
       "      <td>Tart and snappy, the flavors of lime flesh and...</td>\n",
       "      <td>NaN</td>\n",
       "      <td>87</td>\n",
       "      <td>14.0</td>\n",
       "      <td>Oregon</td>\n",
       "      <td>Willamette Valley</td>\n",
       "      <td>Willamette Valley</td>\n",
       "      <td>Paul Gregutt</td>\n",
       "      <td>@paulgwine</td>\n",
       "      <td>Rainstorm 2013 Pinot Gris (Willamette Valley)</td>\n",
       "      <td>Pinot Gris</td>\n",
       "      <td>Rainstorm</td>\n",
       "    </tr>\n",
       "    <tr>\n",
       "      <th>3</th>\n",
       "      <td>US</td>\n",
       "      <td>Pineapple rind, lemon pith and orange blossom ...</td>\n",
       "      <td>Reserve Late Harvest</td>\n",
       "      <td>87</td>\n",
       "      <td>13.0</td>\n",
       "      <td>Michigan</td>\n",
       "      <td>Lake Michigan Shore</td>\n",
       "      <td>NaN</td>\n",
       "      <td>Alexander Peartree</td>\n",
       "      <td>NaN</td>\n",
       "      <td>St. Julian 2013 Reserve Late Harvest Riesling ...</td>\n",
       "      <td>Riesling</td>\n",
       "      <td>St. Julian</td>\n",
       "    </tr>\n",
       "    <tr>\n",
       "      <th>4</th>\n",
       "      <td>US</td>\n",
       "      <td>Much like the regular bottling from 2012, this...</td>\n",
       "      <td>Vintner's Reserve Wild Child Block</td>\n",
       "      <td>87</td>\n",
       "      <td>65.0</td>\n",
       "      <td>Oregon</td>\n",
       "      <td>Willamette Valley</td>\n",
       "      <td>Willamette Valley</td>\n",
       "      <td>Paul Gregutt</td>\n",
       "      <td>@paulgwine</td>\n",
       "      <td>Sweet Cheeks 2012 Vintner's Reserve Wild Child...</td>\n",
       "      <td>Pinot Noir</td>\n",
       "      <td>Sweet Cheeks</td>\n",
       "    </tr>\n",
       "  </tbody>\n",
       "</table>\n",
       "</div>"
      ],
      "text/plain": [
       "    country                                        description  \\\n",
       "0     Italy  Aromas include tropical fruit, broom, brimston...   \n",
       "1  Portugal  This is ripe and fruity, a wine that is smooth...   \n",
       "2        US  Tart and snappy, the flavors of lime flesh and...   \n",
       "3        US  Pineapple rind, lemon pith and orange blossom ...   \n",
       "4        US  Much like the regular bottling from 2012, this...   \n",
       "\n",
       "                          designation  points  price           province  \\\n",
       "0                        Vulkà Bianco      87    NaN  Sicily & Sardinia   \n",
       "1                            Avidagos      87   15.0              Douro   \n",
       "2                                 NaN      87   14.0             Oregon   \n",
       "3                Reserve Late Harvest      87   13.0           Michigan   \n",
       "4  Vintner's Reserve Wild Child Block      87   65.0             Oregon   \n",
       "\n",
       "              region_1           region_2         taster_name  \\\n",
       "0                 Etna                NaN       Kerin O’Keefe   \n",
       "1                  NaN                NaN          Roger Voss   \n",
       "2    Willamette Valley  Willamette Valley        Paul Gregutt   \n",
       "3  Lake Michigan Shore                NaN  Alexander Peartree   \n",
       "4    Willamette Valley  Willamette Valley        Paul Gregutt   \n",
       "\n",
       "  taster_twitter_handle                                              title  \\\n",
       "0          @kerinokeefe                  Nicosia 2013 Vulkà Bianco  (Etna)   \n",
       "1            @vossroger      Quinta dos Avidagos 2011 Avidagos Red (Douro)   \n",
       "2           @paulgwine       Rainstorm 2013 Pinot Gris (Willamette Valley)   \n",
       "3                   NaN  St. Julian 2013 Reserve Late Harvest Riesling ...   \n",
       "4           @paulgwine   Sweet Cheeks 2012 Vintner's Reserve Wild Child...   \n",
       "\n",
       "          variety               winery  \n",
       "0     White Blend              Nicosia  \n",
       "1  Portuguese Red  Quinta dos Avidagos  \n",
       "2      Pinot Gris            Rainstorm  \n",
       "3        Riesling           St. Julian  \n",
       "4      Pinot Noir         Sweet Cheeks  "
      ]
     },
     "execution_count": 2,
     "metadata": {},
     "output_type": "execute_result"
    }
   ],
   "source": [
    "reviews.head()"
   ]
  },
  {
   "cell_type": "markdown",
   "id": "e02dd92a",
   "metadata": {
    "papermill": {
     "duration": 0.005453,
     "end_time": "2024-09-14T09:12:57.196361",
     "exception": false,
     "start_time": "2024-09-14T09:12:57.190908",
     "status": "completed"
    },
    "tags": []
   },
   "source": [
    "## 1.\n",
    "`region_1` and `region_2` are pretty uninformative names for locale columns in the dataset. Create a copy of `reviews` with these columns renamed to `region` and `locale`, respectively."
   ]
  },
  {
   "cell_type": "code",
   "execution_count": 3,
   "id": "f615d19e",
   "metadata": {
    "execution": {
     "iopub.execute_input": "2024-09-14T09:12:57.209499Z",
     "iopub.status.busy": "2024-09-14T09:12:57.209090Z",
     "iopub.status.idle": "2024-09-14T09:12:57.232782Z",
     "shell.execute_reply": "2024-09-14T09:12:57.231748Z"
    },
    "papermill": {
     "duration": 0.032905,
     "end_time": "2024-09-14T09:12:57.235067",
     "exception": false,
     "start_time": "2024-09-14T09:12:57.202162",
     "status": "completed"
    },
    "tags": []
   },
   "outputs": [
    {
     "data": {
      "application/javascript": [
       "parent.postMessage({\"jupyterEvent\": \"custom.exercise_interaction\", \"data\": {\"outcomeType\": 1, \"valueTowardsCompletion\": 0.25, \"interactionType\": 1, \"questionType\": 1, \"questionId\": \"1_RenameCols\", \"learnToolsVersion\": \"0.3.4\", \"failureMessage\": \"\", \"exceptionClass\": \"\", \"trace\": \"\"}}, \"*\")"
      ],
      "text/plain": [
       "<IPython.core.display.Javascript object>"
      ]
     },
     "metadata": {},
     "output_type": "display_data"
    },
    {
     "data": {
      "text/markdown": [
       "<span style=\"color:#33cc33\">Correct</span>"
      ],
      "text/plain": [
       "Correct"
      ]
     },
     "metadata": {},
     "output_type": "display_data"
    }
   ],
   "source": [
    "# Your code here\n",
    "renamed = reviews.rename(columns={'region_1':'region','region_2':'locale'})\n",
    "\n",
    "# Check your answer\n",
    "q1.check()"
   ]
  },
  {
   "cell_type": "code",
   "execution_count": 4,
   "id": "6c9831c8",
   "metadata": {
    "execution": {
     "iopub.execute_input": "2024-09-14T09:12:57.248984Z",
     "iopub.status.busy": "2024-09-14T09:12:57.248527Z",
     "iopub.status.idle": "2024-09-14T09:12:57.253070Z",
     "shell.execute_reply": "2024-09-14T09:12:57.251921Z"
    },
    "papermill": {
     "duration": 0.014007,
     "end_time": "2024-09-14T09:12:57.255163",
     "exception": false,
     "start_time": "2024-09-14T09:12:57.241156",
     "status": "completed"
    },
    "tags": []
   },
   "outputs": [],
   "source": [
    "#q1.hint()\n",
    "#q1.solution()"
   ]
  },
  {
   "cell_type": "markdown",
   "id": "be536b0a",
   "metadata": {
    "papermill": {
     "duration": 0.005736,
     "end_time": "2024-09-14T09:12:57.267015",
     "exception": false,
     "start_time": "2024-09-14T09:12:57.261279",
     "status": "completed"
    },
    "tags": []
   },
   "source": [
    "## 2.\n",
    "Set the index name in the dataset to `wines`."
   ]
  },
  {
   "cell_type": "code",
   "execution_count": 5,
   "id": "fb471551",
   "metadata": {
    "execution": {
     "iopub.execute_input": "2024-09-14T09:12:57.280638Z",
     "iopub.status.busy": "2024-09-14T09:12:57.280242Z",
     "iopub.status.idle": "2024-09-14T09:12:57.302198Z",
     "shell.execute_reply": "2024-09-14T09:12:57.301088Z"
    },
    "papermill": {
     "duration": 0.031933,
     "end_time": "2024-09-14T09:12:57.304988",
     "exception": false,
     "start_time": "2024-09-14T09:12:57.273055",
     "status": "completed"
    },
    "tags": []
   },
   "outputs": [
    {
     "data": {
      "application/javascript": [
       "parent.postMessage({\"jupyterEvent\": \"custom.exercise_interaction\", \"data\": {\"outcomeType\": 1, \"valueTowardsCompletion\": 0.25, \"interactionType\": 1, \"questionType\": 1, \"questionId\": \"2_RenameIndex\", \"learnToolsVersion\": \"0.3.4\", \"failureMessage\": \"\", \"exceptionClass\": \"\", \"trace\": \"\"}}, \"*\")"
      ],
      "text/plain": [
       "<IPython.core.display.Javascript object>"
      ]
     },
     "metadata": {},
     "output_type": "display_data"
    },
    {
     "data": {
      "text/markdown": [
       "<span style=\"color:#33cc33\">Correct</span>"
      ],
      "text/plain": [
       "Correct"
      ]
     },
     "metadata": {},
     "output_type": "display_data"
    }
   ],
   "source": [
    "reindexed = reviews.rename_axis('wines',axis='rows')\n",
    "\n",
    "# Check your answer\n",
    "q2.check()"
   ]
  },
  {
   "cell_type": "code",
   "execution_count": 6,
   "id": "87173517",
   "metadata": {
    "execution": {
     "iopub.execute_input": "2024-09-14T09:12:57.320034Z",
     "iopub.status.busy": "2024-09-14T09:12:57.318966Z",
     "iopub.status.idle": "2024-09-14T09:12:57.323422Z",
     "shell.execute_reply": "2024-09-14T09:12:57.322380Z"
    },
    "papermill": {
     "duration": 0.015764,
     "end_time": "2024-09-14T09:12:57.327135",
     "exception": false,
     "start_time": "2024-09-14T09:12:57.311371",
     "status": "completed"
    },
    "tags": []
   },
   "outputs": [],
   "source": [
    "#q2.hint()\n",
    "#q2.solution()"
   ]
  },
  {
   "cell_type": "markdown",
   "id": "a504c937",
   "metadata": {
    "papermill": {
     "duration": 0.006078,
     "end_time": "2024-09-14T09:12:57.339832",
     "exception": false,
     "start_time": "2024-09-14T09:12:57.333754",
     "status": "completed"
    },
    "tags": []
   },
   "source": [
    "## 3.\n",
    "The [Things on Reddit](https://www.kaggle.com/residentmario/things-on-reddit/data) dataset includes product links from a selection of top-ranked forums (\"subreddits\") on reddit.com. Run the cell below to load a dataframe of products mentioned on the */r/gaming* subreddit and another dataframe for products mentioned on the *r//movies* subreddit."
   ]
  },
  {
   "cell_type": "code",
   "execution_count": 7,
   "id": "5ed5b3e3",
   "metadata": {
    "execution": {
     "iopub.execute_input": "2024-09-14T09:12:57.354596Z",
     "iopub.status.busy": "2024-09-14T09:12:57.354183Z",
     "iopub.status.idle": "2024-09-14T09:12:57.368440Z",
     "shell.execute_reply": "2024-09-14T09:12:57.367406Z"
    },
    "papermill": {
     "duration": 0.024875,
     "end_time": "2024-09-14T09:12:57.371021",
     "exception": false,
     "start_time": "2024-09-14T09:12:57.346146",
     "status": "completed"
    },
    "tags": []
   },
   "outputs": [],
   "source": [
    "gaming_products = pd.read_csv(\"../input/things-on-reddit/top-things/top-things/reddits/g/gaming.csv\")\n",
    "gaming_products['subreddit'] = \"r/gaming\"\n",
    "movie_products = pd.read_csv(\"../input/things-on-reddit/top-things/top-things/reddits/m/movies.csv\")\n",
    "movie_products['subreddit'] = \"r/movies\"\n"
   ]
  },
  {
   "cell_type": "markdown",
   "id": "1c0aa547",
   "metadata": {
    "papermill": {
     "duration": 0.006045,
     "end_time": "2024-09-14T09:12:57.383437",
     "exception": false,
     "start_time": "2024-09-14T09:12:57.377392",
     "status": "completed"
    },
    "tags": []
   },
   "source": [
    "Create a `DataFrame` of products mentioned on *either* subreddit."
   ]
  },
  {
   "cell_type": "code",
   "execution_count": 8,
   "id": "e843bbbd",
   "metadata": {
    "execution": {
     "iopub.execute_input": "2024-09-14T09:12:57.397569Z",
     "iopub.status.busy": "2024-09-14T09:12:57.397153Z",
     "iopub.status.idle": "2024-09-14T09:12:57.409103Z",
     "shell.execute_reply": "2024-09-14T09:12:57.408044Z"
    },
    "papermill": {
     "duration": 0.021724,
     "end_time": "2024-09-14T09:12:57.411352",
     "exception": false,
     "start_time": "2024-09-14T09:12:57.389628",
     "status": "completed"
    },
    "tags": []
   },
   "outputs": [
    {
     "data": {
      "application/javascript": [
       "parent.postMessage({\"jupyterEvent\": \"custom.exercise_interaction\", \"data\": {\"outcomeType\": 1, \"valueTowardsCompletion\": 0.25, \"interactionType\": 1, \"questionType\": 2, \"questionId\": \"3_ConcatReddit\", \"learnToolsVersion\": \"0.3.4\", \"failureMessage\": \"\", \"exceptionClass\": \"\", \"trace\": \"\"}}, \"*\")"
      ],
      "text/plain": [
       "<IPython.core.display.Javascript object>"
      ]
     },
     "metadata": {},
     "output_type": "display_data"
    },
    {
     "data": {
      "text/markdown": [
       "<span style=\"color:#33cc33\">Correct</span>"
      ],
      "text/plain": [
       "Correct"
      ]
     },
     "metadata": {},
     "output_type": "display_data"
    }
   ],
   "source": [
    "combined_products = pd.concat([gaming_products,movie_products])\n",
    "\n",
    "# Check your answer\n",
    "q3.check()"
   ]
  },
  {
   "cell_type": "code",
   "execution_count": 9,
   "id": "2350f3cb",
   "metadata": {
    "execution": {
     "iopub.execute_input": "2024-09-14T09:12:57.429022Z",
     "iopub.status.busy": "2024-09-14T09:12:57.428197Z",
     "iopub.status.idle": "2024-09-14T09:12:57.432671Z",
     "shell.execute_reply": "2024-09-14T09:12:57.431633Z"
    },
    "papermill": {
     "duration": 0.017048,
     "end_time": "2024-09-14T09:12:57.434976",
     "exception": false,
     "start_time": "2024-09-14T09:12:57.417928",
     "status": "completed"
    },
    "tags": []
   },
   "outputs": [],
   "source": [
    "#q3.hint()\n",
    "#q3.solution()"
   ]
  },
  {
   "cell_type": "markdown",
   "id": "8bfc571b",
   "metadata": {
    "papermill": {
     "duration": 0.006303,
     "end_time": "2024-09-14T09:12:57.447830",
     "exception": false,
     "start_time": "2024-09-14T09:12:57.441527",
     "status": "completed"
    },
    "tags": []
   },
   "source": [
    "## 4.\n",
    "The [Powerlifting Database](https://www.kaggle.com/open-powerlifting/powerlifting-database) dataset on Kaggle includes one CSV table for powerlifting meets and a separate one for powerlifting competitors. Run the cell below to load these datasets into dataframes:"
   ]
  },
  {
   "cell_type": "code",
   "execution_count": 10,
   "id": "7abf0ac8",
   "metadata": {
    "execution": {
     "iopub.execute_input": "2024-09-14T09:12:57.462699Z",
     "iopub.status.busy": "2024-09-14T09:12:57.462328Z",
     "iopub.status.idle": "2024-09-14T09:12:58.277660Z",
     "shell.execute_reply": "2024-09-14T09:12:58.276491Z"
    },
    "papermill": {
     "duration": 0.825961,
     "end_time": "2024-09-14T09:12:58.280362",
     "exception": false,
     "start_time": "2024-09-14T09:12:57.454401",
     "status": "completed"
    },
    "tags": []
   },
   "outputs": [],
   "source": [
    "powerlifting_meets = pd.read_csv(\"../input/powerlifting-database/meets.csv\")\n",
    "powerlifting_competitors = pd.read_csv(\"../input/powerlifting-database/openpowerlifting.csv\")\n"
   ]
  },
  {
   "cell_type": "markdown",
   "id": "6692cae4",
   "metadata": {
    "papermill": {
     "duration": 0.006831,
     "end_time": "2024-09-14T09:12:58.294075",
     "exception": false,
     "start_time": "2024-09-14T09:12:58.287244",
     "status": "completed"
    },
    "tags": []
   },
   "source": [
    "Both tables include references to a `MeetID`, a unique key for each meet (competition) included in the database. Using this, generate a dataset combining the two tables into one."
   ]
  },
  {
   "cell_type": "code",
   "execution_count": 11,
   "id": "52f2da20",
   "metadata": {
    "execution": {
     "iopub.execute_input": "2024-09-14T09:12:58.309350Z",
     "iopub.status.busy": "2024-09-14T09:12:58.308927Z",
     "iopub.status.idle": "2024-09-14T09:12:59.325471Z",
     "shell.execute_reply": "2024-09-14T09:12:59.324349Z"
    },
    "papermill": {
     "duration": 1.027117,
     "end_time": "2024-09-14T09:12:59.327632",
     "exception": false,
     "start_time": "2024-09-14T09:12:58.300515",
     "status": "completed"
    },
    "tags": []
   },
   "outputs": [
    {
     "data": {
      "application/javascript": [
       "parent.postMessage({\"jupyterEvent\": \"custom.exercise_interaction\", \"data\": {\"outcomeType\": 1, \"valueTowardsCompletion\": 0.25, \"interactionType\": 1, \"questionType\": 2, \"questionId\": \"4_JoinLifting\", \"learnToolsVersion\": \"0.3.4\", \"failureMessage\": \"\", \"exceptionClass\": \"\", \"trace\": \"\"}}, \"*\")"
      ],
      "text/plain": [
       "<IPython.core.display.Javascript object>"
      ]
     },
     "metadata": {},
     "output_type": "display_data"
    },
    {
     "data": {
      "text/markdown": [
       "<span style=\"color:#33cc33\">Correct</span>"
      ],
      "text/plain": [
       "Correct"
      ]
     },
     "metadata": {},
     "output_type": "display_data"
    }
   ],
   "source": [
    "powerlifting_combined = powerlifting_meets.set_index(\"MeetID\").join(powerlifting_competitors.set_index(\"MeetID\"))\n",
    "\n",
    "# Check your answer\n",
    "q4.check()"
   ]
  },
  {
   "cell_type": "code",
   "execution_count": 12,
   "id": "0b2b8194",
   "metadata": {
    "execution": {
     "iopub.execute_input": "2024-09-14T09:12:59.343743Z",
     "iopub.status.busy": "2024-09-14T09:12:59.343348Z",
     "iopub.status.idle": "2024-09-14T09:12:59.348088Z",
     "shell.execute_reply": "2024-09-14T09:12:59.347095Z"
    },
    "papermill": {
     "duration": 0.015829,
     "end_time": "2024-09-14T09:12:59.350337",
     "exception": false,
     "start_time": "2024-09-14T09:12:59.334508",
     "status": "completed"
    },
    "tags": []
   },
   "outputs": [],
   "source": [
    "#q4.hint()\n",
    "#q4.solution()"
   ]
  },
  {
   "cell_type": "markdown",
   "id": "8c850f9a",
   "metadata": {
    "papermill": {
     "duration": 0.006616,
     "end_time": "2024-09-14T09:12:59.363906",
     "exception": false,
     "start_time": "2024-09-14T09:12:59.357290",
     "status": "completed"
    },
    "tags": []
   },
   "source": [
    "# Congratulations!\n",
    "\n",
    "You've finished the Pandas micro-course.  Many data scientists feel efficiency with Pandas is the most useful and practical skill they have, because it allows you to progress quickly in any project you have.\n",
    "\n",
    "If you'd like to apply your new skills to examining geospatial data, you're encouraged to check out our **[Geospatial Analysis](https://www.kaggle.com/learn/geospatial-analysis)** micro-course.\n",
    "\n",
    "You can also take advantage of your Pandas skills by entering a **[Kaggle Competition](https://www.kaggle.com/competitions)** or by answering a question you find interesting using **[Kaggle Datasets](https://www.kaggle.com/datasets)**."
   ]
  },
  {
   "cell_type": "markdown",
   "id": "7788dd1d",
   "metadata": {
    "papermill": {
     "duration": 0.006494,
     "end_time": "2024-09-14T09:12:59.377155",
     "exception": false,
     "start_time": "2024-09-14T09:12:59.370661",
     "status": "completed"
    },
    "tags": []
   },
   "source": [
    "---\n",
    "\n",
    "\n",
    "\n",
    "\n",
    "*Have questions or comments? Visit the [course discussion forum](https://www.kaggle.com/learn/pandas/discussion) to chat with other learners.*"
   ]
  }
 ],
 "metadata": {
  "kaggle": {
   "accelerator": "none",
   "dataSources": [
    {
     "datasetId": 655,
     "sourceId": 1252,
     "sourceType": "datasetVersion"
    },
    {
     "datasetId": 2321,
     "sourceId": 3919,
     "sourceType": "datasetVersion"
    },
    {
     "datasetId": 2894,
     "sourceId": 4877,
     "sourceType": "datasetVersion"
    },
    {
     "datasetId": 3491,
     "sourceId": 5624,
     "sourceType": "datasetVersion"
    },
    {
     "datasetId": 1442,
     "sourceId": 8172,
     "sourceType": "datasetVersion"
    },
    {
     "datasetId": 9366,
     "sourceId": 13206,
     "sourceType": "datasetVersion"
    },
    {
     "datasetId": 179555,
     "sourceId": 403916,
     "sourceType": "datasetVersion"
    },
    {
     "datasetId": 4549,
     "sourceId": 466349,
     "sourceType": "datasetVersion"
    },
    {
     "datasetId": 2478,
     "sourceId": 1151655,
     "sourceType": "datasetVersion"
    },
    {
     "datasetId": 10128,
     "sourceId": 5438389,
     "sourceType": "datasetVersion"
    }
   ],
   "isGpuEnabled": false,
   "isInternetEnabled": false,
   "language": "python",
   "sourceType": "notebook"
  },
  "kernelspec": {
   "display_name": "Python 3",
   "language": "python",
   "name": "python3"
  },
  "language_info": {
   "codemirror_mode": {
    "name": "ipython",
    "version": 3
   },
   "file_extension": ".py",
   "mimetype": "text/x-python",
   "name": "python",
   "nbconvert_exporter": "python",
   "pygments_lexer": "ipython3",
   "version": "3.10.14"
  },
  "papermill": {
   "default_parameters": {},
   "duration": 10.162614,
   "end_time": "2024-09-14T09:13:00.006091",
   "environment_variables": {},
   "exception": null,
   "input_path": "__notebook__.ipynb",
   "output_path": "__notebook__.ipynb",
   "parameters": {},
   "start_time": "2024-09-14T09:12:49.843477",
   "version": "2.6.0"
  }
 },
 "nbformat": 4,
 "nbformat_minor": 5
}
